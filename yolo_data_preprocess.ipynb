{
 "cells": [
  {
   "cell_type": "code",
   "execution_count": 1,
   "id": "990a1365",
   "metadata": {},
   "outputs": [
    {
     "name": "stdout",
     "output_type": "stream",
     "text": [
      "Separate\t     dehaze_images\t   dry-run-1\t       results\r\n",
      "clean_images\t     dehaze_images_labels  haze_images\r\n",
      "clean_images_labels  dry-run\t\t   haze_images_labels\r\n"
     ]
    }
   ],
   "source": [
    "!ls ./train"
   ]
  },
  {
   "cell_type": "code",
   "execution_count": 2,
   "id": "41a72801",
   "metadata": {
    "scrolled": false
   },
   "outputs": [],
   "source": [
    "from PIL import Image\n",
    "import os,sys\n",
    "\n",
    "# PATH = \"/home/pz2272/train/\"\n",
    "# OUTPUT_PATH = \"/home/pz2272/yolo_datasets/CVPR_dehaze/\"\n",
    "PATH = \"./train/\"\n",
    "OUTPUT_PATH = \"./yolo_datasets/CVPR_dehaze/\"\n",
    "assert os.path.exists(PATH)\n",
    "\n",
    "images = []\n",
    "labels = []\n",
    "\n",
    "# imgs_dir = os.listdir(PATH+\"clean_images\")\n",
    "# labels_dir = os.listdir(PATH+\"clean_images_labels\")\n",
    "imgs_dir = os.listdir(PATH+\"dehaze_images\")\n",
    "labels_dir = os.listdir(PATH+\"dehaze_images_labels\")\n",
    "imgs_dir.sort()\n",
    "labels_dir.sort()\n",
    "\n",
    "# imgs = [(os.path.join(PATH,\"clean_images\",img),img) for img in imgs_dir]\n",
    "# labels = [(os.path.join(PATH,\"clean_images_labels\",label),label) for label in labels_dir]\n",
    "\n",
    "imgs = [(os.path.join(PATH,\"dehaze_images\",img),img) for img in imgs_dir]\n",
    "labels = [(os.path.join(PATH,\"dehaze_images_labels\",label),label) for label in labels_dir]\n",
    "combo = zip(imgs,labels)\n",
    "\n",
    "cnt = 0 \n",
    "n = len(imgs_dir)\n",
    "\n",
    "for img,lab in combo:\n",
    "    image = Image.open(img[0])\n",
    "    image_name = img[1]\n",
    "    image_w, image_h = image.size\n",
    "    label_name = lab[1]\n",
    "    with open(lab[0],\"r\") as f:\n",
    "        content = f.read().split(\"\\n\")\n",
    "        output = \"\"\n",
    "        for item in content[:-1]:\n",
    "            temp = item.split(\" \")\n",
    "            #cls = temp[0]\n",
    "            x_min = int(temp[1])\n",
    "            y_min = int(temp[2])\n",
    "            x_max = int(temp[3])\n",
    "            y_max = int(temp[4])\n",
    "            \n",
    "            center_x = (x_min + x_max) / 2 \n",
    "            center_y = (y_min + y_max) / 2\n",
    "            width    = (x_max - x_min)\n",
    "            height   = (y_max - y_min)\n",
    "            \n",
    "            center_x /= image_w \n",
    "            center_y /= image_h \n",
    "            width    /= image_w \n",
    "            height   /= image_h \n",
    "            \n",
    "            output+= \"{} {:.3f} {:.3f} {:.3f} {:.3f}\\n\".format(0, center_x, center_y, width, height)\n",
    "        \n",
    "        if cnt<0.7*n:\n",
    "            image.save(os.path.join(OUTPUT_PATH,\"images\",\"train\",image_name))\n",
    "            with open(os.path.join(OUTPUT_PATH,\"labels\",\"train\",label_name),\"w\") as f:\n",
    "                f.write(output)       \n",
    "        else:\n",
    "            image.save(os.path.join(OUTPUT_PATH,\"images\",\"val\",image_name))\n",
    "            with open(os.path.join(OUTPUT_PATH,\"labels\",\"val\",label_name),\"w\") as f:\n",
    "                f.write(output)       \n",
    "    cnt += 1"
   ]
  },
  {
   "cell_type": "code",
   "execution_count": null,
   "id": "73715cf9",
   "metadata": {},
   "outputs": [],
   "source": []
  }
 ],
 "metadata": {
  "kernelspec": {
   "display_name": "Python [conda env:root] *",
   "language": "python",
   "name": "conda-root-py"
  },
  "language_info": {
   "codemirror_mode": {
    "name": "ipython",
    "version": 3
   },
   "file_extension": ".py",
   "mimetype": "text/x-python",
   "name": "python",
   "nbconvert_exporter": "python",
   "pygments_lexer": "ipython3",
   "version": "3.7.12"
  }
 },
 "nbformat": 4,
 "nbformat_minor": 5
}
