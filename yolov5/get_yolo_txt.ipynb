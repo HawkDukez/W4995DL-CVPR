{
 "cells": [
  {
   "cell_type": "code",
   "execution_count": 2,
   "id": "2ed2197f",
   "metadata": {},
   "outputs": [
    {
     "name": "stdout",
     "output_type": "stream",
     "text": [
      "\u001b[34m\u001b[1mdetect: \u001b[0mweights=['./runs/train/exp6/weights/last.pt'], source=../train/dry-run-1-dehaze, data=./data/CVPR_dehaze.yaml, imgsz=[640, 640], conf_thres=0.25, iou_thres=0.45, max_det=1000, device=, view_img=False, save_txt=True, save_conf=True, save_crop=False, nosave=False, classes=None, agnostic_nms=False, augment=False, visualize=False, update=False, project=runs/detect, name=exp, exist_ok=False, line_thickness=3, hide_labels=False, hide_conf=False, half=False, dnn=False\n",
      "YOLOv5 🚀 v6.0-276-ga936f5f torch 1.10.0 CUDA:0 (Tesla K80, 11441MiB)\n",
      "\n",
      "Fusing layers... \n",
      "Model Summary: 444 layers, 86173414 parameters, 0 gradients, 204.0 GFLOPs\n",
      "image 1/60 /home/pz2272/train/dry-run-1-dehaze/007.jpg: 288x640 4 vehicles, Done. (0.139s)\n",
      "image 2/60 /home/pz2272/train/dry-run-1-dehaze/029.jpg: 288x640 6 vehicles, Done. (0.130s)\n",
      "image 3/60 /home/pz2272/train/dry-run-1-dehaze/049.jpg: 288x640 3 vehicles, Done. (0.117s)\n",
      "image 4/60 /home/pz2272/train/dry-run-1-dehaze/095.jpg: 288x640 7 vehicles, Done. (0.113s)\n",
      "image 5/60 /home/pz2272/train/dry-run-1-dehaze/097.jpg: 288x640 5 vehicles, Done. (0.113s)\n",
      "image 6/60 /home/pz2272/train/dry-run-1-dehaze/122.jpg: 288x640 5 vehicles, Done. (0.113s)\n",
      "image 7/60 /home/pz2272/train/dry-run-1-dehaze/145.jpg: 288x640 5 vehicles, Done. (0.113s)\n",
      "image 8/60 /home/pz2272/train/dry-run-1-dehaze/163.jpg: 288x640 4 vehicles, Done. (0.112s)\n",
      "image 9/60 /home/pz2272/train/dry-run-1-dehaze/165.jpg: 288x640 7 vehicles, Done. (0.113s)\n",
      "image 10/60 /home/pz2272/train/dry-run-1-dehaze/177.jpg: 288x640 6 vehicles, Done. (0.114s)\n",
      "image 11/60 /home/pz2272/train/dry-run-1-dehaze/178.jpg: 288x640 3 vehicles, Done. (0.113s)\n",
      "image 12/60 /home/pz2272/train/dry-run-1-dehaze/186.jpg: 288x640 5 vehicles, Done. (0.113s)\n",
      "image 13/60 /home/pz2272/train/dry-run-1-dehaze/new_020.jpg: 288x640 2 vehicles, Done. (0.113s)\n",
      "image 14/60 /home/pz2272/train/dry-run-1-dehaze/new_021.jpg: 288x640 Done. (0.113s)\n",
      "image 15/60 /home/pz2272/train/dry-run-1-dehaze/new_023.jpg: 288x640 4 vehicles, Done. (0.113s)\n",
      "image 16/60 /home/pz2272/train/dry-run-1-dehaze/new_024.jpg: 288x640 3 vehicles, Done. (0.113s)\n",
      "image 17/60 /home/pz2272/train/dry-run-1-dehaze/new_025.jpg: 288x640 1 vehicle, Done. (0.113s)\n",
      "image 18/60 /home/pz2272/train/dry-run-1-dehaze/new_026.jpg: 288x640 2 vehicles, Done. (0.113s)\n",
      "image 19/60 /home/pz2272/train/dry-run-1-dehaze/new_027.jpg: 288x640 2 vehicles, Done. (0.113s)\n",
      "image 20/60 /home/pz2272/train/dry-run-1-dehaze/new_028.jpg: 288x640 1 vehicle, Done. (0.113s)\n",
      "image 21/60 /home/pz2272/train/dry-run-1-dehaze/new_029.jpg: 288x640 2 vehicles, Done. (0.113s)\n",
      "image 22/60 /home/pz2272/train/dry-run-1-dehaze/new_030.jpg: 288x640 1 vehicle, Done. (0.113s)\n",
      "image 23/60 /home/pz2272/train/dry-run-1-dehaze/new_031.jpg: 288x640 3 vehicles, Done. (0.112s)\n",
      "image 24/60 /home/pz2272/train/dry-run-1-dehaze/new_032.jpg: 288x640 2 vehicles, Done. (0.113s)\n",
      "image 25/60 /home/pz2272/train/dry-run-1-dehaze/new_033.jpg: 288x640 2 vehicles, Done. (0.113s)\n",
      "image 26/60 /home/pz2272/train/dry-run-1-dehaze/new_034.jpg: 288x640 2 vehicles, Done. (0.113s)\n",
      "image 27/60 /home/pz2272/train/dry-run-1-dehaze/new_035.jpg: 288x640 Done. (0.113s)\n",
      "image 28/60 /home/pz2272/train/dry-run-1-dehaze/new_036.jpg: 288x640 1 vehicle, Done. (0.113s)\n",
      "image 29/60 /home/pz2272/train/dry-run-1-dehaze/new_037.jpg: 288x640 Done. (0.112s)\n",
      "image 30/60 /home/pz2272/train/dry-run-1-dehaze/new_038.jpg: 288x640 Done. (0.113s)\n",
      "image 31/60 /home/pz2272/train/dry-run-1-dehaze/new_039.jpg: 288x640 Done. (0.112s)\n",
      "image 32/60 /home/pz2272/train/dry-run-1-dehaze/new_040.jpg: 288x640 2 vehicles, Done. (0.113s)\n",
      "image 33/60 /home/pz2272/train/dry-run-1-dehaze/new_041.jpg: 288x640 2 vehicles, Done. (0.113s)\n",
      "image 34/60 /home/pz2272/train/dry-run-1-dehaze/new_042.jpg: 288x640 2 vehicles, Done. (0.113s)\n",
      "image 35/60 /home/pz2272/train/dry-run-1-dehaze/new_043.jpg: 288x640 1 vehicle, Done. (0.113s)\n",
      "image 36/60 /home/pz2272/train/dry-run-1-dehaze/new_044.jpg: 288x640 2 vehicles, Done. (0.113s)\n",
      "image 37/60 /home/pz2272/train/dry-run-1-dehaze/new_045.jpg: 288x640 2 vehicles, Done. (0.114s)\n",
      "image 38/60 /home/pz2272/train/dry-run-1-dehaze/new_046.jpg: 288x640 1 vehicle, Done. (0.113s)\n",
      "image 39/60 /home/pz2272/train/dry-run-1-dehaze/new_047.jpg: 288x640 3 vehicles, Done. (0.113s)\n",
      "image 40/60 /home/pz2272/train/dry-run-1-dehaze/new_048.jpg: 288x640 2 vehicles, Done. (0.113s)\n",
      "image 41/60 /home/pz2272/train/dry-run-1-dehaze/new_049.jpg: 288x640 1 vehicle, Done. (0.113s)\n",
      "image 42/60 /home/pz2272/train/dry-run-1-dehaze/new_050.jpg: 288x640 2 vehicles, Done. (0.113s)\n",
      "image 43/60 /home/pz2272/train/dry-run-1-dehaze/new_051.jpg: 288x640 4 vehicles, Done. (0.113s)\n",
      "image 44/60 /home/pz2272/train/dry-run-1-dehaze/new_052.jpg: 288x640 4 vehicles, Done. (0.113s)\n",
      "image 45/60 /home/pz2272/train/dry-run-1-dehaze/new_053.jpg: 288x640 4 vehicles, Done. (0.113s)\n",
      "image 46/60 /home/pz2272/train/dry-run-1-dehaze/new_054.jpg: 288x640 3 vehicles, Done. (0.113s)\n",
      "image 47/60 /home/pz2272/train/dry-run-1-dehaze/new_055.jpg: 288x640 1 vehicle, Done. (0.114s)\n",
      "image 48/60 /home/pz2272/train/dry-run-1-dehaze/new_056.jpg: 288x640 1 vehicle, Done. (0.112s)\n",
      "image 49/60 /home/pz2272/train/dry-run-1-dehaze/new_057.jpg: 288x640 1 vehicle, Done. (0.113s)\n",
      "image 50/60 /home/pz2272/train/dry-run-1-dehaze/new_058.jpg: 288x640 1 vehicle, Done. (0.113s)\n",
      "image 51/60 /home/pz2272/train/dry-run-1-dehaze/new_059.jpg: 288x640 1 vehicle, Done. (0.113s)\n",
      "image 52/60 /home/pz2272/train/dry-run-1-dehaze/new_060.jpg: 288x640 1 vehicle, Done. (0.113s)\n",
      "image 53/60 /home/pz2272/train/dry-run-1-dehaze/new_061.jpg: 288x640 2 vehicles, Done. (0.113s)\n",
      "image 54/60 /home/pz2272/train/dry-run-1-dehaze/new_062.jpg: 288x640 1 vehicle, Done. (0.113s)\n",
      "image 55/60 /home/pz2272/train/dry-run-1-dehaze/new_063.jpg: 288x640 1 vehicle, Done. (0.113s)\n",
      "image 56/60 /home/pz2272/train/dry-run-1-dehaze/new_064.jpg: 288x640 1 vehicle, Done. (0.113s)\n",
      "image 57/60 /home/pz2272/train/dry-run-1-dehaze/new_065.jpg: 288x640 1 vehicle, Done. (0.113s)\n",
      "image 58/60 /home/pz2272/train/dry-run-1-dehaze/new_066.jpg: 288x640 1 vehicle, Done. (0.113s)\n",
      "image 59/60 /home/pz2272/train/dry-run-1-dehaze/new_067.jpg: 288x640 Done. (0.113s)\n",
      "image 60/60 /home/pz2272/train/dry-run-1-dehaze/new_068.jpg: 288x640 1 vehicle, Done. (0.112s)\n",
      "Speed: 0.3ms pre-process, 113.7ms inference, 2.1ms NMS per image at shape (1, 3, 640, 640)\n",
      "Results saved to \u001b[1mruns/detect/exp10\u001b[0m\n",
      "54 labels saved to runs/detect/exp10/labels\n"
     ]
    }
   ],
   "source": [
    "!python detect.py --weights ./runs/train/exp6/weights/last.pt --source ../train/dry-run-1-dehaze --data ./data/CVPR_dehaze.yaml --save-txt --save-conf"
   ]
  }
 ],
 "metadata": {
  "kernelspec": {
   "display_name": "Python [conda env:root] *",
   "language": "python",
   "name": "conda-root-py"
  },
  "language_info": {
   "codemirror_mode": {
    "name": "ipython",
    "version": 3
   },
   "file_extension": ".py",
   "mimetype": "text/x-python",
   "name": "python",
   "nbconvert_exporter": "python",
   "pygments_lexer": "ipython3",
   "version": "3.7.12"
  }
 },
 "nbformat": 4,
 "nbformat_minor": 5
}
