{
 "cells": [
  {
   "cell_type": "code",
   "execution_count": 8,
   "id": "913fc2ea",
   "metadata": {},
   "outputs": [
    {
     "name": "stdout",
     "output_type": "stream",
     "text": [
      "pred_dir: /home/pz2272/train/dry-run-1-dehaze/\n",
      " new_045.jpgFigure(640x480)\n",
      " 177.jpgFigure(640x480)\n",
      " new_021.jpgFigure(640x480)\n",
      " new_036.jpgFigure(640x480)\n",
      " new_037.jpgFigure(640x480)\n",
      " 007.jpgFigure(640x480)\n",
      " new_024.jpgFigure(640x480)\n",
      " new_048.jpgFigure(640x480)\n",
      " new_042.jpgFigure(640x480)\n",
      " new_064.jpgFigure(640x480)\n",
      " new_035.jpgFigure(640x480)\n",
      " new_034.jpgFigure(640x480)\n",
      " new_057.jpgFigure(640x480)\n",
      " 145.jpgFigure(640x480)\n",
      " new_044.jpgFigure(640x480)\n",
      " new_050.jpgFigure(640x480)\n",
      " new_043.jpgFigure(640x480)\n",
      " new_056.jpgFigure(640x480)\n",
      " new_033.jpgFigure(640x480)\n",
      " 165.jpgFigure(640x480)\n",
      " new_059.jpgFigure(640x480)\n",
      " 163.jpgFigure(640x480)\n",
      " new_063.jpgFigure(640x480)\n",
      " new_031.jpgFigure(640x480)\n",
      " new_032.jpgFigure(640x480)\n",
      " new_061.jpgFigure(640x480)\n",
      " 178.jpgFigure(640x480)\n",
      " new_062.jpgFigure(640x480)\n",
      " new_041.jpgFigure(640x480)\n",
      " new_038.jpgFigure(640x480)\n",
      " new_068.jpgFigure(640x480)\n",
      " new_046.jpgFigure(640x480)\n",
      " new_020.jpgFigure(640x480)\n",
      " 186.jpgFigure(640x480)\n",
      " new_047.jpgFigure(640x480)\n",
      " new_049.jpgFigure(640x480)\n",
      " new_025.jpgFigure(640x480)\n",
      " new_065.jpgFigure(640x480)\n",
      " new_060.jpgFigure(640x480)\n",
      " new_023.jpgFigure(640x480)\n",
      " new_055.jpgFigure(640x480)\n",
      " new_053.jpgFigure(640x480)\n",
      " new_058.jpgFigure(640x480)\n",
      " new_028.jpgFigure(640x480)\n",
      " new_067.jpgFigure(640x480)\n",
      " new_054.jpgFigure(640x480)\n",
      " new_066.jpgFigure(640x480)\n",
      " new_052.jpgFigure(640x480)\n",
      " 095.jpgFigure(640x480)\n",
      " new_040.jpgFigure(640x480)\n",
      " new_027.jpgFigure(640x480)\n",
      " 122.jpgFigure(640x480)\n",
      " new_030.jpgFigure(640x480)\n",
      " 097.jpgFigure(640x480)\n",
      " new_026.jpgFigure(640x480)\n",
      " new_051.jpgFigure(640x480)\n",
      " new_029.jpgFigure(640x480)\n",
      " 029.jpgFigure(640x480)\n",
      " 049.jpgFigure(640x480)\n",
      " new_039.jpgFigure(640x480)\n"
     ]
    }
   ],
   "source": [
    "!python test.py --task='nasa' --test_imgs='dry-run-1'"
   ]
  }
 ],
 "metadata": {
  "kernelspec": {
   "display_name": "Python [conda env:root] *",
   "language": "python",
   "name": "conda-root-py"
  },
  "language_info": {
   "codemirror_mode": {
    "name": "ipython",
    "version": 3
   },
   "file_extension": ".py",
   "mimetype": "text/x-python",
   "name": "python",
   "nbconvert_exporter": "python",
   "pygments_lexer": "ipython3",
   "version": "3.7.12"
  }
 },
 "nbformat": 4,
 "nbformat_minor": 5
}
