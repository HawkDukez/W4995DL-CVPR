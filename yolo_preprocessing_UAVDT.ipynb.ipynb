{
 "cells": [
  {
   "cell_type": "code",
   "execution_count": 1,
   "metadata": {
    "colab": {
     "base_uri": "https://localhost:8080/"
    },
    "id": "yzQUscLlVYdU",
    "outputId": "2ca59243-1566-4b5f-9c13-e7a3659c8d65"
   },
   "outputs": [],
   "source": [
    "import os\n",
    "from PIL import Image\n",
    "from pathlib import Path"
   ]
  },
  {
   "cell_type": "code",
   "execution_count": 3,
   "metadata": {
    "id": "GRfA8mMGKSMy"
   },
   "outputs": [],
   "source": [
    "# choose dataset\n",
    "# root = r'./vd_train'\n",
    "root = r'./vd_val'\n",
    "img_folder = os.path.join(root, 'images')\n",
    "ant_folder = os.path.join(root, 'annotations')\n",
    "lab_folder = os.path.join(root, 'labels')\n",
    "assert os.path.exists(ant_folder)\n",
    "\n",
    "for name in os.listdir(ant_folder):\n",
    "    output = ''\n",
    "    img_w, img_h = Image.open(os.path.join(img_folder, name.replace('.txt', '.jpg'))).size\n",
    "    \n",
    "    with open(os.path.join(ant_folder, name), 'r') as f:\n",
    "        rows = f.read().split(\"\\n\")[:-1]\n",
    "    for row in rows:\n",
    "        cells = row.split(',')\n",
    "        if int(cells[5]) in [4, 5, 6, 9]:\n",
    "            '''\n",
    "            pedestrian: 1, people: 2, bicycle: 3, car: 4, van: 5, truck: 6, \n",
    "            tricycle: 7, awning-tricycle: 8, bus: 9, motor: 10, other: 11'''\n",
    "            width, height = int(cells[2]), int(cells[3])\n",
    "            x, y = int(cells[0]) + width / 2, int(cells[1]) + height / 2\n",
    "            width, height = width / img_w, height / img_h\n",
    "            x, y = x / img_w, y / img_h\n",
    "            \n",
    "            output+= \"{} {:.3f} {:.3f} {:.3f} {:.3f}\\n\".format(0, x, y, width, height)\n",
    "\n",
    "    with open(os.path.join(lab_folder, name), 'w') as f:\n",
    "        f.write(output) "
   ]
  },
  {
   "cell_type": "code",
   "execution_count": null,
   "metadata": {},
   "outputs": [],
   "source": []
  }
 ],
 "metadata": {
  "colab": {
   "collapsed_sections": [],
   "name": "visd.ipynb",
   "provenance": []
  },
  "kernelspec": {
   "display_name": "Python 3",
   "language": "python",
   "name": "python3"
  },
  "language_info": {
   "codemirror_mode": {
    "name": "ipython",
    "version": 3
   },
   "file_extension": ".py",
   "mimetype": "text/x-python",
   "name": "python",
   "nbconvert_exporter": "python",
   "pygments_lexer": "ipython3",
   "version": "3.8.8"
  }
 },
 "nbformat": 4,
 "nbformat_minor": 1
}
